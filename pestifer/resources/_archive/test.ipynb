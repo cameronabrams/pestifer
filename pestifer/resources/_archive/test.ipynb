{
 "cells": [
  {
   "cell_type": "code",
   "execution_count": null,
   "metadata": {},
   "outputs": [],
   "source": [
    "class A:\n",
    "    m=[1]\n",
    "\n",
    "class B(A):\n",
    "    mm=super(A).m+[2]"
   ]
  }
 ],
 "metadata": {
  "kernelspec": {
   "display_name": "mol-env",
   "language": "python",
   "name": "python3"
  },
  "language_info": {
   "name": "python",
   "version": "3.10.13"
  }
 },
 "nbformat": 4,
 "nbformat_minor": 2
}
